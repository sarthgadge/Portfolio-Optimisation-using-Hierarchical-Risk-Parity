{
  "nbformat": 4,
  "nbformat_minor": 0,
  "metadata": {
    "colab": {
      "provenance": []
    },
    "kernelspec": {
      "name": "python3",
      "display_name": "Python 3"
    },
    "language_info": {
      "name": "python"
    }
  },
  "cells": [
    {
      "cell_type": "markdown",
      "source": [
        "## **Install the packages**"
      ],
      "metadata": {
        "id": "IMIJLlKoTki-"
      }
    },
    {
      "cell_type": "code",
      "source": [
        "!pip install yfinance\n",
        "!pip install pandas \n",
        "!pip install numpy\n",
        "!pip install seaborn \n",
        "!pip install matplotlib\n",
        "!pip install scipy"
      ],
      "metadata": {
        "colab": {
          "base_uri": "https://localhost:8080/"
        },
        "id": "mrK3YFCIBoOX",
        "outputId": "7fbbc9f8-70a2-4c0e-f30c-0b28cfa86def"
      },
      "execution_count": 50,
      "outputs": [
        {
          "output_type": "stream",
          "name": "stdout",
          "text": [
            "Looking in indexes: https://pypi.org/simple, https://us-python.pkg.dev/colab-wheels/public/simple/\n",
            "Requirement already satisfied: yfinance in /usr/local/lib/python3.8/dist-packages (0.1.90)\n",
            "Requirement already satisfied: lxml>=4.9.1 in /usr/local/lib/python3.8/dist-packages (from yfinance) (4.9.2)\n",
            "Requirement already satisfied: multitasking>=0.0.7 in /usr/local/lib/python3.8/dist-packages (from yfinance) (0.0.11)\n",
            "Requirement already satisfied: pandas>=1.3.0 in /usr/local/lib/python3.8/dist-packages (from yfinance) (1.3.5)\n",
            "Requirement already satisfied: requests>=2.26 in /usr/local/lib/python3.8/dist-packages (from yfinance) (2.28.1)\n",
            "Requirement already satisfied: appdirs>=1.4.4 in /usr/local/lib/python3.8/dist-packages (from yfinance) (1.4.4)\n",
            "Requirement already satisfied: numpy>=1.16.5 in /usr/local/lib/python3.8/dist-packages (from yfinance) (1.21.6)\n",
            "Requirement already satisfied: python-dateutil>=2.7.3 in /usr/local/lib/python3.8/dist-packages (from pandas>=1.3.0->yfinance) (2.8.2)\n",
            "Requirement already satisfied: pytz>=2017.3 in /usr/local/lib/python3.8/dist-packages (from pandas>=1.3.0->yfinance) (2022.6)\n",
            "Requirement already satisfied: six>=1.5 in /usr/local/lib/python3.8/dist-packages (from python-dateutil>=2.7.3->pandas>=1.3.0->yfinance) (1.15.0)\n",
            "Requirement already satisfied: certifi>=2017.4.17 in /usr/local/lib/python3.8/dist-packages (from requests>=2.26->yfinance) (2022.12.7)\n",
            "Requirement already satisfied: charset-normalizer<3,>=2 in /usr/local/lib/python3.8/dist-packages (from requests>=2.26->yfinance) (2.1.1)\n",
            "Requirement already satisfied: urllib3<1.27,>=1.21.1 in /usr/local/lib/python3.8/dist-packages (from requests>=2.26->yfinance) (1.24.3)\n",
            "Requirement already satisfied: idna<4,>=2.5 in /usr/local/lib/python3.8/dist-packages (from requests>=2.26->yfinance) (2.10)\n",
            "Looking in indexes: https://pypi.org/simple, https://us-python.pkg.dev/colab-wheels/public/simple/\n",
            "Requirement already satisfied: pandas in /usr/local/lib/python3.8/dist-packages (1.3.5)\n",
            "Requirement already satisfied: python-dateutil>=2.7.3 in /usr/local/lib/python3.8/dist-packages (from pandas) (2.8.2)\n",
            "Requirement already satisfied: pytz>=2017.3 in /usr/local/lib/python3.8/dist-packages (from pandas) (2022.6)\n",
            "Requirement already satisfied: numpy>=1.17.3 in /usr/local/lib/python3.8/dist-packages (from pandas) (1.21.6)\n",
            "Requirement already satisfied: six>=1.5 in /usr/local/lib/python3.8/dist-packages (from python-dateutil>=2.7.3->pandas) (1.15.0)\n",
            "Looking in indexes: https://pypi.org/simple, https://us-python.pkg.dev/colab-wheels/public/simple/\n",
            "Requirement already satisfied: numpy in /usr/local/lib/python3.8/dist-packages (1.21.6)\n",
            "Looking in indexes: https://pypi.org/simple, https://us-python.pkg.dev/colab-wheels/public/simple/\n",
            "Requirement already satisfied: seaborn in /usr/local/lib/python3.8/dist-packages (0.11.2)\n",
            "Requirement already satisfied: pandas>=0.23 in /usr/local/lib/python3.8/dist-packages (from seaborn) (1.3.5)\n",
            "Requirement already satisfied: numpy>=1.15 in /usr/local/lib/python3.8/dist-packages (from seaborn) (1.21.6)\n",
            "Requirement already satisfied: scipy>=1.0 in /usr/local/lib/python3.8/dist-packages (from seaborn) (1.7.3)\n",
            "Requirement already satisfied: matplotlib>=2.2 in /usr/local/lib/python3.8/dist-packages (from seaborn) (3.2.2)\n",
            "Requirement already satisfied: python-dateutil>=2.1 in /usr/local/lib/python3.8/dist-packages (from matplotlib>=2.2->seaborn) (2.8.2)\n",
            "Requirement already satisfied: pyparsing!=2.0.4,!=2.1.2,!=2.1.6,>=2.0.1 in /usr/local/lib/python3.8/dist-packages (from matplotlib>=2.2->seaborn) (3.0.9)\n",
            "Requirement already satisfied: kiwisolver>=1.0.1 in /usr/local/lib/python3.8/dist-packages (from matplotlib>=2.2->seaborn) (1.4.4)\n",
            "Requirement already satisfied: cycler>=0.10 in /usr/local/lib/python3.8/dist-packages (from matplotlib>=2.2->seaborn) (0.11.0)\n",
            "Requirement already satisfied: pytz>=2017.3 in /usr/local/lib/python3.8/dist-packages (from pandas>=0.23->seaborn) (2022.6)\n",
            "Requirement already satisfied: six>=1.5 in /usr/local/lib/python3.8/dist-packages (from python-dateutil>=2.1->matplotlib>=2.2->seaborn) (1.15.0)\n",
            "Looking in indexes: https://pypi.org/simple, https://us-python.pkg.dev/colab-wheels/public/simple/\n",
            "Requirement already satisfied: matplotlib in /usr/local/lib/python3.8/dist-packages (3.2.2)\n",
            "Requirement already satisfied: python-dateutil>=2.1 in /usr/local/lib/python3.8/dist-packages (from matplotlib) (2.8.2)\n",
            "Requirement already satisfied: numpy>=1.11 in /usr/local/lib/python3.8/dist-packages (from matplotlib) (1.21.6)\n",
            "Requirement already satisfied: kiwisolver>=1.0.1 in /usr/local/lib/python3.8/dist-packages (from matplotlib) (1.4.4)\n",
            "Requirement already satisfied: cycler>=0.10 in /usr/local/lib/python3.8/dist-packages (from matplotlib) (0.11.0)\n",
            "Requirement already satisfied: pyparsing!=2.0.4,!=2.1.2,!=2.1.6,>=2.0.1 in /usr/local/lib/python3.8/dist-packages (from matplotlib) (3.0.9)\n",
            "Requirement already satisfied: six>=1.5 in /usr/local/lib/python3.8/dist-packages (from python-dateutil>=2.1->matplotlib) (1.15.0)\n",
            "Looking in indexes: https://pypi.org/simple, https://us-python.pkg.dev/colab-wheels/public/simple/\n",
            "Requirement already satisfied: scipy in /usr/local/lib/python3.8/dist-packages (1.7.3)\n",
            "Requirement already satisfied: numpy<1.23.0,>=1.16.5 in /usr/local/lib/python3.8/dist-packages (from scipy) (1.21.6)\n"
          ]
        }
      ]
    },
    {
      "cell_type": "markdown",
      "source": [
        "## **Import the libraries**"
      ],
      "metadata": {
        "id": "1QPUSX-FTpAI"
      }
    },
    {
      "cell_type": "code",
      "execution_count": 51,
      "metadata": {
        "id": "aZUk2txrfv1u"
      },
      "outputs": [],
      "source": [
        "import pandas as pd\n",
        "import numpy as np\n",
        "from scipy.cluster.hierarchy import dendrogram, linkage\n",
        "from matplotlib import pyplot as plt\n",
        "import seaborn as sns\n",
        "import yfinance as yf\n"
      ]
    },
    {
      "cell_type": "markdown",
      "source": [
        "## **Download the data**"
      ],
      "metadata": {
        "id": "biR8U8sATf2q"
      }
    },
    {
      "cell_type": "code",
      "source": [
        "# Select the stocks to test the model\n",
        "stocks = ['ORCL','EL','NOW','ADI','ISRG','CVS','T','EOG','REGN','TJX']\n",
        "stocks_compl = [\"AAPL\"] + stocks\n",
        "\n",
        "# Download the data for first stock and store it \n",
        "apl = yf.Ticker(\"AAPL\")\n",
        "aapl = apl.history(period ='5y')\n",
        "\n",
        "# Calculate the returns for the first stock and store it\n",
        "pct_aapl = aapl[\"Close\"].pct_change()\n",
        "\n",
        "prices_aapl = aapl[\"Close\"]\n",
        "returns = pct_aapl.to_frame()\n",
        "prices = prices_aapl.to_frame()\n",
        "\n",
        "# Store the generated returns and downloaded data\n",
        "returns = returns.rename(columns={\"Close\": stocks_compl[0]})\n",
        "prices = prices.rename(columns={\"Close\": stocks_compl[0]})\n",
        "\n",
        "# Downloading the stocks' data using the 'yfinance' library\n",
        "for stock in stocks:\n",
        "    df1 = yf.Ticker(stock)\n",
        "    df = df1.history(period='5y')\n",
        "\n",
        "    # Calculate the percent change\n",
        "    df_pct = df[\"Close\"].pct_change()\n",
        "    df_price = df[\"Close\"]\n",
        "\n",
        "    # Store the returns and prices \n",
        "    returns = returns.join(df_pct).rename(columns={\"Close\": stock})\n",
        "    prices = prices.join(df_price).rename(columns={\"Close\": stock})\n",
        "\n",
        "# Remove the empty cells from the returns dataframe \n",
        "returns = returns.dropna()"
      ],
      "metadata": {
        "id": "uWoDzC6vTbjC"
      },
      "execution_count": 52,
      "outputs": []
    },
    {
      "cell_type": "markdown",
      "source": [
        "# **TREE CLUSTERING**"
      ],
      "metadata": {
        "id": "UOvrdI8QUEe2"
      }
    },
    {
      "cell_type": "code",
      "source": [
        "# Compute the correlation matrix \n",
        "corr = returns.corr()\n",
        "\n",
        "# Plot the correlation matrix\n",
        "ax = sns.heatmap(corr, cmap=\"coolwarm\")\n",
        "\n",
        "# Calculate the disctance matrix\n",
        "d_corr = np.sqrt(0.5*(1-corr))\n",
        "\n",
        "# Compute the linkage matrix using the distance matrix \n",
        "link = linkage(d_corr, 'single')\n",
        "Z = pd.DataFrame(link)"
      ],
      "metadata": {
        "colab": {
          "base_uri": "https://localhost:8080/",
          "height": 323
        },
        "id": "WooMFxHZUQHG",
        "outputId": "3bf11601-5b40-4938-a552-0e29af1acaa8"
      },
      "execution_count": 53,
      "outputs": [
        {
          "output_type": "stream",
          "name": "stderr",
          "text": [
            "<ipython-input-53-2c1a3729e6ed>:11: ClusterWarning: scipy.cluster: The symmetric non-negative hollow observation matrix looks suspiciously like an uncondensed distance matrix\n",
            "  link = linkage(d_corr, 'single')\n"
          ]
        },
        {
          "output_type": "display_data",
          "data": {
            "text/plain": [
              "<Figure size 432x288 with 2 Axes>"
            ],
            "image/png": "[encoded data removed]"
          },
          "metadata": {
            "needs_background": "light"
          }
        }
      ]
    },
    {
      "cell_type": "code",
      "source": [
        "## **Plot the dendogram**"
      ],
      "metadata": {
        "id": "Xy0guC2NYh23"
      },
      "execution_count": 54,
      "outputs": []
    },
    {
      "cell_type": "code",
      "source": [
        "# Plot the dendogram \n",
        "fig = plt.figure(figsize=(25, 10))\n",
        "dn = dendrogram(Z, labels = stocks_compl)\n",
        "plt.show()"
      ],
      "metadata": {
        "colab": {
          "base_uri": "https://localhost:8080/",
          "height": 569
        },
        "id": "4C8BSDEjYk8r",
        "outputId": "77e7c37c-c4bb-4a4f-a999-022c0bdb6db4"
      },
      "execution_count": 55,
      "outputs": [
        {
          "output_type": "display_data",
          "data": {
            "text/plain": [
              "<Figure size 1800x720 with 1 Axes>"
            ],
            "image/png": "[encoded data removed]"
          },
          "metadata": {
            "needs_background": "light"
          }
        }
      ]
    },
    {
      "cell_type": "markdown",
      "source": [
        "# **QUASI-DIAGONALIZATION**"
      ],
      "metadata": {
        "id": "C4zNfZnWUY7W"
      }
    },
    {
      "cell_type": "code",
      "source": [
        "# Make a function which returns the sorted matrix back\n",
        "def get_quasi_diag(link):\n",
        "    link = link.astype(int)\n",
        "\n",
        "    # get the first and the second item of the last tuple\n",
        "    sort_ix = pd.Series([link[-1,0], link[-1,1]])\n",
        "\n",
        "    # the total num of items is the third item of the last list\n",
        "    num_items = link[-1, 3]\n",
        "    \n",
        "    # if the max of sort_ix is bigger than or equal to the max_items\n",
        "    while sort_ix.max() >= num_items:\n",
        "        sort_ix.index = range(0, sort_ix.shape[0]*2, 2)\n",
        "        df0 = sort_ix[sort_ix >= num_items] \n",
        "        i = df0.index\n",
        "        j = df0.values - num_items\n",
        "        sort_ix[i] = link[j,0] # item 1\n",
        "        df0 = pd.Series(link[j, 1], index=i+1)\n",
        "        sort_ix = pd.concat([sort_ix,df0])\n",
        "        sort_ix = sort_ix.sort_index()\n",
        "        sort_ix.index = range(sort_ix.shape[0])\n",
        "    return sort_ix.tolist()"
      ],
      "metadata": {
        "id": "tTqYfTdzghAA"
      },
      "execution_count": 56,
      "outputs": []
    },
    {
      "cell_type": "markdown",
      "source": [
        "## **Plot the new matrix generated**"
      ],
      "metadata": {
        "id": "MUHchIWIUoId"
      }
    },
    {
      "cell_type": "code",
      "source": [
        "# Call the function to get the sorted matrix\n",
        "\n",
        "sort_ix = get_quasi_diag(link)\n",
        "stocks_compl = np.array(stocks_compl)\n",
        "df_vis = returns[stocks_compl[sort_ix]]\n",
        "corr2 = df_vis.corr()\n",
        "\n",
        "# Plot the sorted matrix\n",
        "ax = sns.heatmap(corr2, cmap=\"coolwarm\")"
      ],
      "metadata": {
        "colab": {
          "base_uri": "https://localhost:8080/",
          "height": 288
        },
        "id": "lxy2cyNXUvox",
        "outputId": "617e2832-6e77-48b9-92b6-c288259eb2dc"
      },
      "execution_count": 57,
      "outputs": [
        {
          "output_type": "display_data",
          "data": {
            "text/plain": [
              "<Figure size 432x288 with 2 Axes>"
            ],
            "image/png": "[encoded data removed]"
          },
          "metadata": {
            "needs_background": "light"
          }
        }
      ]
    },
    {
      "cell_type": "markdown",
      "source": [
        "## **Compute the cluster variance**"
      ],
      "metadata": {
        "id": "LmLkq5mDU9S8"
      }
    },
    {
      "cell_type": "code",
      "source": [
        "# Make a function to get the cluster variance\n",
        "\n",
        "def get_cluster_var(cov, c_items):\n",
        "    cov_ = cov.iloc[c_items, c_items] # matrix slice\n",
        "\n",
        "    # calculate the inversev-variance portfolio\n",
        "    ivp = 1./np.diag(cov_)\n",
        "    ivp/=ivp.sum()\n",
        "    w_ = ivp.reshape(-1,1)\n",
        "    c_var = np.dot(np.dot(w_.T, cov_), w_)[0,0]\n",
        "    return c_var\n"
      ],
      "metadata": {
        "id": "rUODP1WfhVki"
      },
      "execution_count": 58,
      "outputs": []
    },
    {
      "cell_type": "markdown",
      "source": [
        "# **RECURSIVE BISECTION**"
      ],
      "metadata": {
        "id": "-d4kaujhVCRq"
      }
    },
    {
      "cell_type": "code",
      "source": [
        "def get_rec_bipart(cov, sort_ix):\n",
        "\n",
        "    # compute HRP allocation\n",
        "\n",
        "    # intialize weights of 1\n",
        "    w = pd.Series(1, index=sort_ix)\n",
        "\n",
        "    # intialize all items in one cluster\n",
        "    c_items = [sort_ix]\n",
        "    while len(c_items) > 0:\n",
        "        c_items = [i[int(j):int(k)] for i in c_items for j,k in\n",
        "        ((0,len(i)/2),(len(i)/2,len(i))) if len(i)>1]\n",
        "        # now it has 2\n",
        "        \n",
        "        for i in range(0, len(c_items), 2):\n",
        "            c_items0 = c_items[i] # cluster 1\n",
        "            c_items1 = c_items[i+1] # cluter 2\n",
        "            c_var0 = get_cluster_var(cov, c_items0)\n",
        "            c_var1 = get_cluster_var(cov, c_items1)\n",
        "            alpha = 1 - c_var0/(c_var0+c_var1)\n",
        "            w[c_items0] *= alpha\n",
        "            w[c_items1] *=1-alpha\n",
        "    return w"
      ],
      "metadata": {
        "id": "3Sws3Tw1j7_T"
      },
      "execution_count": 59,
      "outputs": []
    },
    {
      "cell_type": "markdown",
      "source": [
        "## **METHODS TO COMPARE THE STRATEGY**"
      ],
      "metadata": {
        "id": "3LBpom80VO_W"
      }
    },
    {
      "cell_type": "code",
      "source": [
        "# Compute the weights according to 'minimum variance' method \n",
        "def compute_MV_weights(covariances):\n",
        "    inv_covar = np.linalg.inv(covariances)\n",
        "    u = np.ones(len(covariances))\n",
        "    x = np.dot(inv_covar, u) / np.dot(u, np.dot(inv_covar, u))\n",
        "    return pd.Series(x, index = stocks_compl, name=\"MV\")\n",
        "\n",
        "# Compute the weights according to 'risk parity' method\n",
        "def compute_RP_weights(covariances):\n",
        "    weights = (1 / np.diag(covariances))\n",
        "    x = weights / sum(weights)\n",
        "    return pd.Series(x, index = stocks_compl, name=\"RP\")\n",
        "\n",
        "# Compute the weights according to 'uniform weights' method\n",
        "def compute_unif_weights(covariances):\n",
        "    x = [1 / len(covariances) for i in range(len(covariances))]\n",
        "    return pd.Series(x, index = stocks_compl, name=\"unif\")\n",
        "\n",
        "# Compute the weights according to 'hrp' method\n",
        "cov = returns.cov()\n",
        "weights_HRP = get_rec_bipart(cov, sort_ix)\n",
        "new_index = [returns.columns[i] for i in weights_HRP.index]\n",
        "weights_HRP.index = new_index\n",
        "weights_HRP.name = \"HRP\""
      ],
      "metadata": {
        "id": "30jBvtQeVYfB"
      },
      "execution_count": 60,
      "outputs": []
    },
    {
      "cell_type": "markdown",
      "source": [
        "## **Store the weights generated from different methods**"
      ],
      "metadata": {
        "id": "t5LGKVZwXV3K"
      }
    },
    {
      "cell_type": "code",
      "source": [
        "# Make a seperate dataframe to store the expected returns generated by all the methods used \n",
        "\n",
        "weights_MV = compute_MV_weights(cov)\n",
        "weights_RP = compute_RP_weights(cov)\n",
        "weights_unif = compute_unif_weights(cov)\n",
        "\n",
        "# Make a results dataframe containing results from all the methods\n",
        "results = weights_HRP.to_frame()\n",
        "results = results.join(weights_MV.to_frame())\n",
        "results = results.join(weights_RP.to_frame())\n",
        "results = results.join(weights_unif.to_frame())\n",
        "print(results)"
      ],
      "metadata": {
        "colab": {
          "base_uri": "https://localhost:8080/"
        },
        "id": "JinvzlwLkLNX",
        "outputId": "c3f33c68-ed3a-4e70-8402-10ad9f4cf469"
      },
      "execution_count": 61,
      "outputs": [
        {
          "output_type": "stream",
          "name": "stdout",
          "text": [
            "           HRP        MV        RP      unif\n",
            "REGN  0.147988  0.205994  0.090060  0.090909\n",
            "EOG   0.070056  0.009862  0.042634  0.090909\n",
            "TJX   0.117135  0.088161  0.095074  0.090909\n",
            "ORCL  0.094341  0.123186  0.111837  0.090909\n",
            "EL    0.076308  0.100922  0.090460  0.090909\n",
            "NOW   0.056189 -0.011348  0.052205  0.090909\n",
            "ISRG  0.050014 -0.030433  0.075141  0.090909\n",
            "AAPL  0.059596  0.037256  0.089538  0.090909\n",
            "ADI   0.099686 -0.011947  0.081204  0.090909\n",
            "CVS   0.099593  0.144908  0.118390  0.090909\n",
            "T     0.129093  0.343440  0.153458  0.090909\n"
          ]
        }
      ]
    },
    {
      "cell_type": "markdown",
      "source": [
        "# **PARAMETERS TO COMPARE THE STRATEGIES**"
      ],
      "metadata": {
        "id": "JZBPW707XFr4"
      }
    },
    {
      "cell_type": "markdown",
      "source": [
        "## **Expected Returns**"
      ],
      "metadata": {
        "id": "HAFm2g6DWsBA"
      }
    },
    {
      "cell_type": "code",
      "source": [
        "# Make a function to compute the expected returns which takes the weight matrix as an argument\n",
        "\n",
        "def compute_ER(weights):\n",
        "    mean = returns.mean(0)\n",
        "    return weights.values * mean"
      ],
      "metadata": {
        "id": "Xx7NbfJDkQpb"
      },
      "execution_count": 62,
      "outputs": []
    },
    {
      "cell_type": "code",
      "source": [
        "# Pass the weight matrix generated by different methods to the 'compute_ER' function \n",
        "# to get the expected returns \n",
        "\n",
        "er_hrp = compute_ER(weights_HRP)\n",
        "er_hrp.name = \"HRP\"\n",
        "er_mv = compute_ER(weights_MV)\n",
        "er_mv.name = \"MV\"\n",
        "er_rp = compute_ER(weights_RP)\n",
        "er_rp.name = \"RP\"\n",
        "er_unif = compute_ER(weights_unif)\n",
        "er_unif.name = \"unif\""
      ],
      "metadata": {
        "id": "pvyw14pWkT2T"
      },
      "execution_count": 63,
      "outputs": []
    },
    {
      "cell_type": "code",
      "source": [
        "# Make a seperate dataframe to store the expected returns generated by all the methods used \n",
        "\n",
        "ers = er_hrp.to_frame()\n",
        "ers = pd.concat([ers,er_mv.to_frame()])\n",
        "ers = pd.concat([ers,er_rp.to_frame()])\n",
        "ers = pd.concat([ers,er_unif.to_frame()])\n",
        "ers = ers.sum()\n",
        "ers.name = \"Expected Return\"\n",
        "ers = ers.to_frame()\n",
        "print(ers)"
      ],
      "metadata": {
        "colab": {
          "base_uri": "https://localhost:8080/"
        },
        "id": "tEVZfMFbmRze",
        "outputId": "259cd8dd-2a7d-447d-ea13-09b17ca505ae"
      },
      "execution_count": 64,
      "outputs": [
        {
          "output_type": "stream",
          "name": "stdout",
          "text": [
            "      Expected Return\n",
            "HRP          0.000822\n",
            "MV           0.000483\n",
            "RP           0.000693\n",
            "unif         0.000767\n"
          ]
        }
      ]
    },
    {
      "cell_type": "markdown",
      "source": [
        "## **Portfolio Volitality**"
      ],
      "metadata": {
        "id": "MMOUuInmWil8"
      }
    },
    {
      "cell_type": "code",
      "source": [
        "# Make a function to calculate the volitality of the portfolio generated\n",
        "# by different methods which takes the weight matrix and covariance matrix as arguments \n",
        "\n",
        "def portfolio_volatility(weights, cov):\n",
        "    return np.sqrt(np.dot(np.dot(weights.values, cov.values), weights.values))"
      ],
      "metadata": {
        "id": "rv4Pq2-HmX4o"
      },
      "execution_count": 65,
      "outputs": []
    },
    {
      "cell_type": "code",
      "source": [
        "# Find the volitality of the various portfolio constructed by different methods\n",
        "\n",
        "data = [portfolio_volatility(weights_HRP, cov)]\n",
        "data.append(portfolio_volatility(weights_MV, cov))\n",
        "data.append(portfolio_volatility(weights_RP, cov))\n",
        "data.append(portfolio_volatility(weights_unif, cov))\n",
        "volatility = pd.DataFrame(data = data, index=[\"HRP\", \"MV\", \"RP\", \"unif\"],\n",
        "columns=[\"Volatility\"])"
      ],
      "metadata": {
        "id": "W9mkqSi6mtau"
      },
      "execution_count": 66,
      "outputs": []
    },
    {
      "cell_type": "markdown",
      "source": [
        "Assume the risk free return rate to be zero"
      ],
      "metadata": {
        "id": "yTlwhYWFWYgr"
      }
    },
    {
      "cell_type": "code",
      "source": [
        "def risk_free():\n",
        "    return 0"
      ],
      "metadata": {
        "id": "qYBPcz7AmwWB"
      },
      "execution_count": 67,
      "outputs": []
    },
    {
      "cell_type": "markdown",
      "source": [
        "## **Sharpe Ratio**"
      ],
      "metadata": {
        "id": "ziA5slldWK1Q"
      }
    },
    {
      "cell_type": "code",
      "source": [
        "# Make a function to calculate the sharpe ratio of all the portfolios \n",
        "# which takes the weight matrix and covariance matrix as arguments\n",
        "\n",
        "def sharpe_ratio(weights, cov):\n",
        "    ret_portfolio = compute_ER(weights).sum()\n",
        "    ret_free = risk_free()\n",
        "    volatility = portfolio_volatility(weights, cov)\n",
        "    return (ret_portfolio - ret_free)/volatility"
      ],
      "metadata": {
        "id": "xvnkOYc3m5Ms"
      },
      "execution_count": 68,
      "outputs": []
    },
    {
      "cell_type": "code",
      "source": [
        "# Pass the weight and covariance matrix to the 'sharpe_ratio' function \n",
        "\n",
        "data = [sharpe_ratio(weights_HRP, cov)]\n",
        "data.append(sharpe_ratio(weights_MV, cov))\n",
        "data.append(sharpe_ratio(weights_RP, cov))\n",
        "data.append(sharpe_ratio(weights_unif, cov))\n",
        "sharpe_R= pd.DataFrame(data = data, index=[\"HRP\", \"MV\", \"RP\", \"unif\"],\n",
        "columns=[\"Sharpe Ratio\"])\n",
        "\n",
        "# Print the Sharpe ratio dataframe \n",
        "print(sharpe_R)"
      ],
      "metadata": {
        "colab": {
          "base_uri": "https://localhost:8080/"
        },
        "id": "K-kohZFim8h7",
        "outputId": "2c87eb25-f551-47be-bb07-6803268f9152"
      },
      "execution_count": 69,
      "outputs": [
        {
          "output_type": "stream",
          "name": "stdout",
          "text": [
            "      Sharpe Ratio\n",
            "HRP       0.054766\n",
            "MV        0.037591\n",
            "RP        0.049642\n",
            "unif      0.052271\n"
          ]
        }
      ]
    },
    {
      "cell_type": "markdown",
      "source": [
        "## **Maximum Drawdown**"
      ],
      "metadata": {
        "id": "CctWDCirV_cI"
      }
    },
    {
      "cell_type": "code",
      "source": [
        "# Make a function to compute the maximum drawdown\n",
        "\n",
        "def compute_mdd(weights):\n",
        "    df = weights * prices\n",
        "    df = df.sum(1)\n",
        "    roll_max = df.cummax()\n",
        "    daily_drawdown = df/roll_max - 1.0"
      ],
      "metadata": {
        "id": "AHOSnvkDn9El"
      },
      "execution_count": 70,
      "outputs": []
    },
    {
      "cell_type": "code",
      "source": [
        "# Pass the weights matrix to 'compute_mdd' function and make a \n",
        "# seperate dataframe 'dd' to store them\n",
        "\n",
        "data = [compute_mdd(weights_HRP)]\n",
        "data.append(compute_mdd(weights_MV))\n",
        "data.append(compute_mdd(weights_RP))\n",
        "data.append(compute_mdd(weights_unif))\n",
        "dd = pd.DataFrame(data = data, index=[\"HRP\", \"MV\", \"RP\", \"unif\"],\n",
        "columns = [\"Max DD\"])"
      ],
      "metadata": {
        "id": "xhJscAjRm9TY"
      },
      "execution_count": 71,
      "outputs": []
    },
    {
      "cell_type": "markdown",
      "source": [
        "## **Diversification Ratio**"
      ],
      "metadata": {
        "id": "4iiUmyYAVoY2"
      }
    },
    {
      "cell_type": "code",
      "source": [
        "# Make a function to compute the diversification ratio for all the portfolios\n",
        "\n",
        "def diversification_ratio(weights, cov):\n",
        "    p_volatility = portfolio_volatility(weights, cov)\n",
        "    return np.dot(np.sqrt(np.diag(cov.values)), weights) / p_volatility"
      ],
      "metadata": {
        "id": "Nt5XDZlfoKhq"
      },
      "execution_count": 72,
      "outputs": []
    },
    {
      "cell_type": "code",
      "source": [
        "# Pass the weights and covariance matrix to the 'diversification_ratio' function \n",
        "# and store the results in a seperate dataframe 'dr'\n",
        "\n",
        "data = [diversification_ratio(weights_HRP, cov)]\n",
        "data.append(diversification_ratio(weights_MV, cov))\n",
        "data.append(diversification_ratio(weights_RP, cov))\n",
        "data.append(diversification_ratio(weights_unif, cov))\n",
        "dr = pd.DataFrame(data = data, index=[\"HRP\", \"MV\", \"RP\", \"unif\"],\n",
        "columns = [\"Div Ratio\"])"
      ],
      "metadata": {
        "id": "raULTfIUoRim"
      },
      "execution_count": 73,
      "outputs": []
    },
    {
      "cell_type": "markdown",
      "source": [
        "## **FINAL RESULTS**"
      ],
      "metadata": {
        "id": "LjyQ4_RmVg8j"
      }
    },
    {
      "cell_type": "code",
      "source": [
        "# Join all the dataframes constructed in one dataframe to get final results\n",
        "\n",
        "final_results = ers.join(volatility)\n",
        "final_results = final_results.join(sharpe_R)\n",
        "final_results = final_results.join(dd)\n",
        "final_results = final_results.join(dr)\n",
        "print(final_results)"
      ],
      "metadata": {
        "colab": {
          "base_uri": "https://localhost:8080/"
        },
        "id": "ghPTotXKoXdj",
        "outputId": "0a7cde10-ba10-46c4-dc0c-b690b39bbdc9"
      },
      "execution_count": 74,
      "outputs": [
        {
          "output_type": "stream",
          "name": "stdout",
          "text": [
            "      Expected Return  Volatility  Sharpe Ratio Max DD  Div Ratio\n",
            "HRP          0.000822    0.015010      0.054766   None   1.473323\n",
            "MV           0.000483    0.012849      0.037591   None   1.443498\n",
            "RP           0.000693    0.013950      0.049642   None   1.478046\n",
            "unif         0.000767    0.014669      0.052271   None   1.486446\n"
          ]
        }
      ]
    }
  ]
}